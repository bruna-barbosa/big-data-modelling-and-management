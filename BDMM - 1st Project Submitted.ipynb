{
 "cells": [
  {
   "cell_type": "markdown",
   "metadata": {},
   "source": [
    "# Big Data Modeling and Management Assigment (Question 9 Revision)\n",
    "\n",
    "**Group member:** <br>\n",
    "Lucas Correa (m20211006)<br>\n",
    "Vera Canhoto (m20210659)<br>\n",
    "Bruna Duarte (m20210669)<br>\n",
    "Doyun Shin (m20200565)\n",
    "\n",
    "## 🍺 The Beer project  🍺 \n",
    "\n",
    "As it was shown in classes, graph databases are a natural way of navegating distinct types of data. For this first project we will be taking a graph database to analyse beer and breweries!   \n",
    "\n",
    "_For reference the dataset used for this project has been extracted from [kaggle](https://www.kaggle.com/ehallmar/beers-breweries-and-beer-reviews), released by Evan Hallmark. Even though the author does not present metada on the origin of the data it is probably a collection of open data from places like [beeradvocate](https://www.beeradvocate.com/)_ \n",
    "\n",
    "#### Problem description\n",
    "\n",
    "Explore the database via python neo4j connector and/or the graphical tool in the NEO4J webpage. Answer the questions. Submit the results by following the instructions\n",
    "\n",
    "\n",
    "#### Questions\n",
    "\n",
    "\n",
    "0. __Example Question__ _How many beers does the database contain?_\n",
    "1. How many different countries exist in the database?\n",
    "1. Most reviews:  \n",
    "    1. Which `Beer` has the most reviews?  \n",
    "    1. Which `Brewery` has the most reviews for its beers?\n",
    "    1. Which `Country` has the most reviews for its beers? \n",
    "1. Find the user/users that have the most shared reviews (reviews of the same beers) with the user CTJman?\n",
    "1. Which Portuguese brewery has the most beers?\n",
    "1. From those beers (the ones returned from the previous question), which has the most reviews?\n",
    "1. On average how many different beer styles does each brewery produce?\n",
    "1. Which brewery produces the strongest beers according to ABV?\n",
    "1. If I typically enjoy a beer due to its aroma and appearance, which beer style should I try?\n",
    "1. Using Graph Algorithms answer **two** of the following questions:\n",
    "    1. Which two countries are most similiar when it comes to their **top 10** most produced Beer styles? \n",
    "    2. <span style=\"color:red\">Which beer has the most similar reviews as the beer `Super Bock Stout` ? </span>\n",
    "    3. <span style=\"color:red\">Which user is the most influential when it comes to reviews made? </span>\n",
    "    4. Which beer styles are more central when it comes the amount of beers? \n",
    "    5. <span style=\"color:green\">Which beer is the most influential when considering beers are conected by users who review them? </span>\n",
    "    6. <span style=\"color:green\">Users are connected together by their reviews to beers, taking into consideration the \"overall\" score they review as a weight, how many communities are formed from these relationships? How many users has the biggest community? </span> \n",
    "    \n",
    "Notes: \n",
    "- We've added some more questions in <span style=\"color:green\">green</span>, so you have a broader choice.\n",
    "- Questions in <span style=\"color:red\">red</span> have an added dificulty, which will be considered while grading if chosen.\n",
    "- Consider creating nodes for the STYLES and USERS. \n",
    "- For an example on how to perform such CRUD operations, plese use the \"load HW1 DB.ipynb\" jupyter notebook.\n",
    "- In case of a tie for the top entity, in terms of metrics outputed from the algorithms, **simply output the first.**\n",
    "\n",
    "10. If you had to pick 3 beers to recommend using only this database, which would you pick and why?\n",
    "\n",
    "\n",
    " Questions 8 to 10 are somewhat open, which means we'll also be evaluating the reasoning behind your answer. So there aren't necessarily bad results there are only wrong criteria, explanations or execution. \n",
    " \n",
    "#### Groups  \n",
    "\n",
    "Groups should have 4 to 5 people.\n",
    "You should register your group on **moodle**.\n",
    "\n",
    "#### Submission      \n",
    "\n",
    "The code used to produce the results and respective explations should be uploaded to moodle. They should have a clear reference to the group, either on the file name or on the document itself. Preferably one Jupyter notebook per group.\n",
    "\n",
    "Delivery date: Until the **midnight of May 16**\n",
    "\n",
    "#### Evaluation   \n",
    "\n",
    "This will be 20% of the final grade.   \n",
    "Each solution will be evaluated on 2 components: correctness of results and simplicity of the solution.  \n",
    "All code will go through plagiarism automated checks. Groups with the same code will undergo investigation."
   ]
  },
  {
   "cell_type": "markdown",
   "metadata": {},
   "source": [
    "### Loading the Database\n",
    "\n",
    "#### Be sure that you **don't have** the neo4j docker container from the classes running (you can Stop it in the desktop app or with the command \"docker stop testneo4j\")\n",
    "#### Let's create a new container for the Homework (notice how it has a different name):\n",
    "    docker run --name HW1neo4j -p7474:7474 -p7687:7687 -d --env NEO4J_AUTH=neo4j/test --env NEO4J_dbms_connector_https_advertised_address=\"localhost:7473\" --env NEO4J_dbms_connector_http_advertisedaddress=\"localhost:7474\" --env NEO4J_dbms_connector_bolt_advertised_address=\"localhost:7687\" neo4j\n",
    "    \n",
    "#### The default container does not have any data whatsoever, we will have to load a database into our docker image:\n",
    "- Download and unzip the \"HW1 Database\" file provided in Moodle.\n",
    "- Copy the path of the \"Data\" folder of the unziped file, e.g. \"C:\\Users\\nunoa\\Desktop\\data\".\n",
    "- In your command line (terminal in MacOs) paste the code: \"docker cp C:\\Users\\nunoa\\Desktop\\data HW1neo4j:/\". As you might have notice, you do not have a User called \"nunoa\", please use the appropriate path that you got from the previous step. Additionally, if your container has a different name than \"HW1neo4j\", please change it as well.\n",
    "- Now let's restart our docker container, either in the User Interface (Docker Desktop) or in the command line by typping the command \"docker restart HW1neo4j\".\n",
    "- Since Neo4j is trying to recognize a new database folder, this might take a bit (let's say 3 minutes), so don't worry."
   ]
  },
  {
   "cell_type": "markdown",
   "metadata": {},
   "source": [
    "<span style=\"color:red\">**PLEASE NOTE:**</span> We disregarded the above database load instruction. Instead, the entire database was loaded with csv based method, via \"load HW1 db.ipynb.\""
   ]
  },
  {
   "cell_type": "code",
   "execution_count": 1,
   "metadata": {},
   "outputs": [
    {
     "data": {
      "text/plain": [
       "[{'count(*)': 9659261}]"
      ]
     },
     "execution_count": 1,
     "metadata": {},
     "output_type": "execute_result"
    }
   ],
   "source": [
    "import py2neo\n",
    "from pprint import pprint\n",
    "username=\"neo4j\"\n",
    "password=\"test\"\n",
    "host=\"localhost\"\n",
    "port=\"7474\"\n",
    "\n",
    "secure_graph = py2neo.Graph(f\"http://{username}:{password}@{host}:{port}\")\n",
    "\n",
    "secure_graph.run(\"MATCH () RETURN count(*)\").data()"
   ]
  },
  {
   "cell_type": "markdown",
   "metadata": {},
   "source": [
    "#### Understanding the Database"
   ]
  },
  {
   "cell_type": "code",
   "execution_count": 2,
   "metadata": {},
   "outputs": [
    {
     "name": "stdout",
     "output_type": "stream",
     "text": [
      "[{'label': 'COUNTRIES'},\n",
      " {'label': 'CITIES'},\n",
      " {'label': 'BREWERIES'},\n",
      " {'label': 'BEERS'},\n",
      " {'label': 'REVIEWS'},\n",
      " {'label': 'STYLE'},\n",
      " {'label': 'USER'}]\n"
     ]
    }
   ],
   "source": [
    "result = secure_graph.run(\"\"\"\n",
    "        call db.labels();\n",
    "\"\"\").data()\n",
    "pprint(result)"
   ]
  },
  {
   "cell_type": "code",
   "execution_count": 3,
   "metadata": {
    "scrolled": false
   },
   "outputs": [
    {
     "name": "stdout",
     "output_type": "stream",
     "text": [
      "[{'relationshipType': 'REVIEWED'},\n",
      " {'relationshipType': 'BREWED'},\n",
      " {'relationshipType': 'IN'},\n",
      " {'relationshipType': 'HAS_STYLE'},\n",
      " {'relationshipType': 'POSTED'}]\n"
     ]
    }
   ],
   "source": [
    "result = secure_graph.run(\"\"\"\n",
    "        CALL db.relationshipTypes();\n",
    "\"\"\").data()\n",
    "pprint(result)"
   ]
  },
  {
   "cell_type": "markdown",
   "metadata": {},
   "source": [
    "#### 0. How many different countries exist in the database?\n",
    "\n",
    "(Excluded in the newly released notebook and based on an email communication with the Lab Instructor)"
   ]
  },
  {
   "cell_type": "code",
   "execution_count": 4,
   "metadata": {},
   "outputs": [
    {
     "name": "stdout",
     "output_type": "stream",
     "text": [
      "[{'Number_of_Countries': 200}]\n"
     ]
    }
   ],
   "source": [
    "# How many nodes of Countries label are there?\n",
    "\n",
    "result = secure_graph.run(\"\"\"\n",
    "        MATCH (c:COUNTRIES)\n",
    "        RETURN count(distinct c) AS Number_of_Countries\n",
    "\"\"\").data()\n",
    "print(result)"
   ]
  },
  {
   "cell_type": "markdown",
   "metadata": {},
   "source": [
    "#### 1. Most reviews:  \n",
    "    A) Which `Beer` has the most reviews?  \n",
    "    B) Which `Brewery` has the most reviews for its beers?\n",
    "    C) Which `Country` has the most reviews for its beers? "
   ]
  },
  {
   "cell_type": "markdown",
   "metadata": {},
   "source": [
    "<span style=\"color:red\">**PLEASE NOTE:**</span> We overwrite the variable \"result\" for all our answers to save memory, just in case, as we don't need to reuse these results."
   ]
  },
  {
   "cell_type": "code",
   "execution_count": 5,
   "metadata": {},
   "outputs": [
    {
     "name": "stdout",
     "output_type": "stream",
     "text": [
      "[{'Beer': 'IPA', 'Review_Count': 31387}]\n"
     ]
    }
   ],
   "source": [
    "# A) Which `Beer` has the most reviews?  \n",
    "result=secure_graph.run(\"\"\"\n",
    "        MATCH (be:BEERS)-[r]->(:REVIEWS)\n",
    "        RETURN be.name AS Beer, count(r) AS Review_Count\n",
    "        ORDER BY count(r) DESC\n",
    "        LIMIT 1\n",
    "\"\"\").data()\n",
    "print(result)"
   ]
  },
  {
   "cell_type": "code",
   "execution_count": 6,
   "metadata": {},
   "outputs": [
    {
     "name": "stdout",
     "output_type": "stream",
     "text": [
      "[{'Brewery': 'Sierra Nevada Brewing Co.', 'Review_Count': 175161}]\n"
     ]
    }
   ],
   "source": [
    "# B) Which `Brewery` has the most reviews for its beers?\n",
    "result = secure_graph.run(\"\"\"\n",
    "        MATCH (br:BREWERIES)-[]->(:BEERS)-[r]->(:REVIEWS)\n",
    "        RETURN br.name AS Brewery, count(r) AS Review_Count\n",
    "        ORDER BY count(r) DESC\n",
    "        LIMIT 1\n",
    "\"\"\").data()\n",
    "print(result)"
   ]
  },
  {
   "cell_type": "code",
   "execution_count": 7,
   "metadata": {},
   "outputs": [
    {
     "name": "stdout",
     "output_type": "stream",
     "text": [
      "[{'Country': 'US', 'Review_Count': 7675823}]\n"
     ]
    }
   ],
   "source": [
    "# C) Which `Country` has the most reviews for its beers? \n",
    "result = secure_graph.run(\"\"\"\n",
    "        MATCH (c:COUNTRIES)<-[]-(:CITIES)<-[]-(:BREWERIES)-[]->(:BEERS)-[r]->(:REVIEWS)        \n",
    "        RETURN c.name AS Country, count(r) AS Review_Count\n",
    "        ORDER BY count(r) DESC\n",
    "        LIMIT 1\n",
    "\"\"\").data()\n",
    "print(result)"
   ]
  },
  {
   "cell_type": "markdown",
   "metadata": {},
   "source": [
    "#### 2. Find the user/users that have the most shared reviews (reviews of the same beers) with the user CTJman?\n"
   ]
  },
  {
   "cell_type": "code",
   "execution_count": 8,
   "metadata": {},
   "outputs": [
    {
     "name": "stdout",
     "output_type": "stream",
     "text": [
      "[{'User': 'acurtis', 'Shared_Beer_Reviews': 1428}]\n"
     ]
    }
   ],
   "source": [
    "# Count beers not reviews since it's about common beers they reviewed on.\n",
    "result = secure_graph.run(\"\"\"\n",
    "        MATCH (u:USER)<-[:POSTED]-(r1:REVIEWS)<-[:REVIEWED]-(be:BEERS)-[:REVIEWED]->(r2:REVIEWS)-[:POSTED]->(u2:USER)\n",
    "        WHERE u.name =\"CTJman\"\n",
    "        RETURN u2.name AS User, COUNT(DISTINCT be) AS Shared_Beer_Reviews \n",
    "        ORDER BY Shared_Beer_Reviews DESC \n",
    "        LIMIT 1\n",
    "\"\"\").data()\n",
    "print(result)"
   ]
  },
  {
   "cell_type": "markdown",
   "metadata": {},
   "source": [
    "#### 3. Which Portuguese brewery has the most beers?\n"
   ]
  },
  {
   "cell_type": "code",
   "execution_count": 9,
   "metadata": {},
   "outputs": [
    {
     "name": "stdout",
     "output_type": "stream",
     "text": [
      "[{'Brewery': 'Dois Corvos Cervejeira', 'Number_of_Beers': 40}]\n"
     ]
    }
   ],
   "source": [
    "result = secure_graph.run(\"\"\"\n",
    "        MATCH (c:COUNTRIES)<-[]-(:CITIES)<-[]-(br:BREWERIES)-[r]->(:BEERS)\n",
    "        WHERE c.name = 'PT'\n",
    "        RETURN br.name AS Brewery, count(r) AS Number_of_Beers\n",
    "        ORDER BY Number_of_Beers DESC\n",
    "        LIMIT 1\n",
    "\"\"\").data()\n",
    "print(result)"
   ]
  },
  {
   "cell_type": "markdown",
   "metadata": {},
   "source": [
    "#### 4. From those beers (the ones produced in the brewery from the previous question), which has the most reviews?\n"
   ]
  },
  {
   "cell_type": "code",
   "execution_count": 10,
   "metadata": {},
   "outputs": [
    {
     "name": "stdout",
     "output_type": "stream",
     "text": [
      "[{'Beer_Name': 'Finisterra', 'Review_Count': 10}]\n"
     ]
    }
   ],
   "source": [
    "result = secure_graph.run(\"\"\"\n",
    "        MATCH (r:REVIEWS)<-[:REVIEWED]-(be:BEERS)<-[:BREWED]-(br:BREWERIES)\n",
    "        WHERE br.name = \"Dois Corvos Cervejeira\"\n",
    "        RETURN be.name as Beer_Name, COUNT(r) as Review_Count\n",
    "        ORDER BY Review_Count DESC \n",
    "        LIMIT 1\n",
    "\"\"\").data()\n",
    "print(result)"
   ]
  },
  {
   "cell_type": "markdown",
   "metadata": {},
   "source": [
    "#### 5. On average how many different beer styles does each brewery produce?\n"
   ]
  },
  {
   "cell_type": "code",
   "execution_count": 11,
   "metadata": {},
   "outputs": [
    {
     "name": "stdout",
     "output_type": "stream",
     "text": [
      "[{'Average_Beer_Style_per_Brewery': 10.7}]\n"
     ]
    }
   ],
   "source": [
    "result = secure_graph.run(\"\"\"\n",
    "        MATCH (br:BREWERIES)-[:BREWED]->(:BEERS)-[:HAS_STYLE]->(s:STYLE)\n",
    "        WITH br.name AS Brewery, COUNT(DISTINCT s) AS count\n",
    "        RETURN round(avg(count), 1) AS Average_Beer_Style_per_Brewery\n",
    "\"\"\").data()\n",
    "print(result)\n",
    "# We don't round the result to whole number, as the future usage of this value is unknown."
   ]
  },
  {
   "cell_type": "markdown",
   "metadata": {},
   "source": [
    "#### 6. Which brewery produces the strongest beers according to ABV?\n"
   ]
  },
  {
   "cell_type": "code",
   "execution_count": 12,
   "metadata": {},
   "outputs": [
    {
     "name": "stdout",
     "output_type": "stream",
     "text": [
      "[{'Brewery': '1648 Brewing Company Ltd', 'Average_ABV': 25.58}]\n"
     ]
    }
   ],
   "source": [
    "result = secure_graph.run(\"\"\"\n",
    "        MATCH (br:BREWERIES)-[b:BREWED]->(be:BEERS)\n",
    "        WHERE be.abv <> 'nan'\n",
    "        WITH br.name AS Brewery, round(avg(toFloat(be.abv)),2) AS Average_ABV\n",
    "        RETURN Brewery, Average_ABV\n",
    "        ORDER BY Average_ABV DESC\n",
    "        LIMIT 1\n",
    "\"\"\").data()\n",
    "print(result)"
   ]
  },
  {
   "cell_type": "markdown",
   "metadata": {},
   "source": [
    "#### 7. If I typically enjoy a beer due to its aroma and appearance, which beer style should I try?\n"
   ]
  },
  {
   "cell_type": "code",
   "execution_count": 13,
   "metadata": {},
   "outputs": [
    {
     "name": "stdout",
     "output_type": "stream",
     "text": [
      "[{'Style': 'New England IPA', 'Aroma_Appearance_Score': 8.8, 'Review_Count': 110696}]\n"
     ]
    }
   ],
   "source": [
    "result = secure_graph.run(\"\"\"\n",
    "        MATCH (s:STYLE)<-[:HAS_STYLE]-(be:BEERS)-[:REVIEWED]->(r:REVIEWS)\n",
    "        WHERE s.name <> 'nan' AND r.smell <> 'nan' AND r.look <> 'nan'\n",
    "        RETURN s.name AS Style, round((avg(toFloat(r.smell))) + (avg(toFloat(r.look))),1) AS Aroma_Appearance_Score, count(r) AS Review_Count\n",
    "        ORDER BY Aroma_Appearance_Score DESC\n",
    "        LIMIT 1\n",
    "\"\"\").data()\n",
    "print(result)\n",
    "# 1. We need to show the review count, since we need to see if the beer has enough reviews to justify the score.\n",
    "# 2. There is no necessity to make the score in 5/5 form, as Aroma_Appearance_Score is a new metric.\n",
    "# 3. We also don't need to filter the beers with smell higher than 4 or look to be higher than 4. So many beer has both scores \n",
    "# higher than 4. if a beer has one of the two metric lower than 4, it won't be the top result. "
   ]
  },
  {
   "cell_type": "markdown",
   "metadata": {},
   "source": [
    "#### 8. Using Graph Algorithms answer **two** of the following questions:\n",
    "1. Which two countries are most similiar when it comes to their **top 10** most produced Beer styles? \n",
    "2. <span style=\"color:red\">Which beer has the most similar reviews as the beer `Super Bock Stout` ? </span>\n",
    "3. <span style=\"color:red\">Which user is the most influential when it comes to reviews made? </span>\n",
    "4. Which beer styles are more central when it comes the amount of beers? \n",
    "5. <span style=\"color:green\">Which beer is the most influential when considering beers are conected by users who review them? </span>\n",
    "6. <span style=\"color:green\">Users are connected together by their reviews to beers, taking into consideration the \"overall\" score they review as a weight, how many communities are formed from these relationships? How many users has the biggest community? </span> \n",
    "    \n",
    "Notes: \n",
    "- We've added some more questions in <span style=\"color:green\">green</span>, so you have a broader choice.\n",
    "- Questions in <span style=\"color:red\">red</span> have an added dificulty, which will be considered while grading if chosen.\n",
    "- Consider creating nodes for the STYLES and USERS. \n",
    "- For an example on how to perform such CRUD operations, plese use the \"load HW1 DB.ipynb\" jupyter notebook.\n",
    "- In case of a tie for the top entity, in terms of metrics outputed from the algorithms, **simply output the first.**"
   ]
  },
  {
   "cell_type": "markdown",
   "metadata": {},
   "source": [
    "#### 8.2 Which beer has the most similar reviews as the beer Super Bock Stout ?\n",
    "\n",
    "<span style=\"color:red\">**PLEASE NOTE**:</span> \n",
    "- There's \"overall\" and \"score\" in REVIEWS. We assume \"overall\" to be the score the user gave as how different smell, taste, etc are harmonized. For example, if it's a dark beer, it wouldn't really harmonize with a fruity taste, for many users. On the other hand, we assume \"score\" to be the final score of the beer taking everything into consideration. \"score\" is probably the aggregate of everything, perhaps with different weights that we are not aware of. Hence we exclude \"score\" from similarity metric as it is already represented by its components (feel, look, smell etc).\n",
    "- Again, we overwrite the variable \"result\" for all our answers to save memory, just in case, as we don't need to reuse these results."
   ]
  },
  {
   "cell_type": "code",
   "execution_count": 14,
   "metadata": {
    "scrolled": true
   },
   "outputs": [
    {
     "name": "stdout",
     "output_type": "stream",
     "text": [
      "[{'Similar_Beer_Name': 'ROK IPA', 'Review_Similarity': 0.9999955414685279}]\n"
     ]
    }
   ],
   "source": [
    "result = secure_graph.run(\"\"\"\n",
    "       CALL{ \n",
    "            MATCH (b:BEERS)-[:REVIEWED]->(r:REVIEWS)\n",
    "           WHERE b.name = 'Super Bock Stout'\n",
    "           RETURN \n",
    "            b.name as Super_Bock_Stout,\n",
    "            avg(toFloat(r.feel)) AS feel,\n",
    "            avg(toFloat(r.look)) AS look,\n",
    "            avg(toFloat(r.smell)) AS smell,\n",
    "            avg(toFloat(r.taste)) AS taste,\n",
    "            avg(toFloat(r.overall)) AS overall\n",
    "            }\n",
    "       CALL{\n",
    "           MATCH (r2:REVIEWS)<-[:REVIEWED]-(d:BEERS)\n",
    "           WHERE d.name <> 'Super Bock Stout'\n",
    "           RETURN\n",
    "            d.name as Similar_Beer_Name,\n",
    "            COALESCE(avg(toFloatOrNull(r2.feel))   ,avg(toFloatOrNull(r2.score))) AS feel2,\n",
    "            COALESCE(avg(toFloatOrNull(r2.look))   ,avg(toFloatOrNull(r2.score))) AS look2,\n",
    "            COALESCE(avg(toFloatOrNull(r2.smell))  ,avg(toFloatOrNull(r2.score))) AS smell2,\n",
    "            COALESCE(avg(toFloatOrNull(r2.taste))  ,avg(toFloatOrNull(r2.score))) AS taste2,\n",
    "            COALESCE(avg(toFloatOrNull(r2.overall)),avg(toFloatOrNull(r2.score))) AS overall2\n",
    "            }\n",
    "       RETURN Similar_Beer_Name, \n",
    "            gds.similarity.cosine([feel,look,smell,taste,overall],[feel2,look2,smell2,taste2,overall2]) AS Review_Similarity\n",
    "       ORDER BY Review_Similarity DESC\n",
    "       LIMIT 1\n",
    "       \"\"\").data()\n",
    "pprint(result, sort_dicts=False)"
   ]
  },
  {
   "cell_type": "markdown",
   "metadata": {},
   "source": [
    "#### 8.3 Which user is the most influential when it comes to reviews made?"
   ]
  },
  {
   "cell_type": "code",
   "execution_count": 15,
   "metadata": {},
   "outputs": [
    {
     "name": "stdout",
     "output_type": "stream",
     "text": [
      "[{'graphName': 'Users_Reviews_Graph'}]\n"
     ]
    }
   ],
   "source": [
    "# Step 0 - Clear graph if it already exists.\n",
    "try:\n",
    "    delete_graph = secure_graph.run(\"\"\"\n",
    "        CALL gds.graph.drop('Users_Reviews_Graph') YIELD graphName;\n",
    "    \"\"\").data()\n",
    "\n",
    "    pprint(delete_graph)\n",
    "except Exception as e:\n",
    "    print(e)"
   ]
  },
  {
   "cell_type": "code",
   "execution_count": 16,
   "metadata": {},
   "outputs": [
    {
     "name": "stdout",
     "output_type": "stream",
     "text": [
      "[{'graphName': 'Users_Reviews_Graph',\n",
      "  'nodeCount': 9238063,\n",
      "  'nodeProjection': {'REVIEWS': {'label': 'REVIEWS', 'properties': {}},\n",
      "                     'USER': {'label': 'USER', 'properties': {}}},\n",
      "  'projectMillis': 2087,\n",
      "  'relationshipCount': 9073128,\n",
      "  'relationshipProjection': {'POSTED': {'aggregation': 'DEFAULT',\n",
      "                                        'orientation': 'NATURAL',\n",
      "                                        'properties': {},\n",
      "                                        'type': 'POSTED'}}}]\n"
     ]
    }
   ],
   "source": [
    "result = secure_graph.run(\"\"\"\n",
    "        CALL gds.graph.project(\n",
    "            'Users_Reviews_Graph',\n",
    "            ['USER', 'REVIEWS'],\n",
    "            {POSTED:{orientation:'NATURAL'}}\n",
    "        )\n",
    "\"\"\").data()\n",
    "pprint(result)"
   ]
  },
  {
   "cell_type": "code",
   "execution_count": 17,
   "metadata": {},
   "outputs": [
    {
     "name": "stdout",
     "output_type": "stream",
     "text": [
      "[{'Username': 'Sammy', 'Importance_Score': 1759.4}]\n"
     ]
    }
   ],
   "source": [
    "# Reference: https://neo4j.com/docs/graph-data-science/current/algorithms/page-rank/\n",
    "# There is no weight values specified in POSTED relationship, hence we disregard weighted method\n",
    "result = secure_graph.run(\"\"\"\n",
    "        CALL gds.pageRank.stream('Users_Reviews_Graph')\n",
    "        YIELD nodeId, score\n",
    "        RETURN gds.util.asNode(nodeId).name AS Username, round(score, 2) AS Importance_Score\n",
    "        ORDER BY Importance_Score DESC \n",
    "        LIMIT 1\n",
    "\"\"\").data()\n",
    "pprint(result, sort_dicts=False)"
   ]
  },
  {
   "cell_type": "markdown",
   "metadata": {},
   "source": [
    "### 9. If you had to pick 3 beers to recommend using only this database, which would you pick and why?"
   ]
  },
  {
   "cell_type": "markdown",
   "metadata": {},
   "source": [
    "**9.1.1 Excellent Portuguese Beers**\n",
    "\n",
    "Here we define \"excellent\" beer as beers with score over 4. Of those excellent Portuguese beers, we will assume beers with higher number of reviews to be more reliably excellent for different tasters. The idea behind here is that Portugal is widely known as a wine culture country, but we want to find and recommend great beers of Portugal."
   ]
  },
  {
   "cell_type": "code",
   "execution_count": 18,
   "metadata": {},
   "outputs": [
    {
     "name": "stdout",
     "output_type": "stream",
     "text": [
      "[{'Beer_Name': 'Voragem', 'Avg_Score': 4.1, 'Review_Counts': 7},\n",
      " {'Beer_Name': 'Passarola IPA', 'Avg_Score': 4.1, 'Review_Counts': 7},\n",
      " {'Beer_Name': 'Mean Sardine / De Molen Ginja Ninja',\n",
      "  'Avg_Score': 4.2,\n",
      "  'Review_Counts': 4}]\n"
     ]
    }
   ],
   "source": [
    "excellent_pt_beers = secure_graph.run(\"\"\"\n",
    "     MATCH (c:COUNTRIES)<-[]-(:CITIES)<-[]-(:BREWERIES)-[]->(B:BEERS)-[R:REVIEWED]->(RE:REVIEWS)\n",
    "     WHERE RE.score <> 'nan' AND c.name ='PT'\n",
    "     WITH B.name as Beer_Name, round(avg(toFloat(RE.score)),1) as Avg_Score, count(RE) AS Review_Counts\n",
    "     WHERE Avg_Score > 4\n",
    "     Return Beer_Name, Avg_Score, Review_Counts\n",
    "     ORDER BY Review_Counts DESC\n",
    "     LIMIT 3\n",
    "\"\"\").data()\n",
    "\n",
    "pprint(excellent_pt_beers, sort_dicts=False)"
   ]
  },
  {
   "cell_type": "markdown",
   "metadata": {},
   "source": [
    "**9.1.2 Popular Portuguse Beers**\n",
    "\n",
    "We tried to find the best beers in Portugal, however we noticed the number of reviews to be too little to be reliable. Hence we can also recommend the most popular beers in Portugal, regardless of the quality, just for him/her to experience the mainstream beer that average Portuguese population drink frequently (again, the reviews are only a proxy, as we believe this review website is not used by many Portuguese considering the number of reviews for Super Bock, arguably the most available beer in Portugal)."
   ]
  },
  {
   "cell_type": "code",
   "execution_count": 19,
   "metadata": {},
   "outputs": [
    {
     "name": "stdout",
     "output_type": "stream",
     "text": [
      "[{'Name': 'Super Bock', 'Avg_Score': 2.8, 'Review_Counts': 391},\n",
      " {'Name': 'Sagres Cerveja', 'Avg_Score': 2.8, 'Review_Counts': 279},\n",
      " {'Name': 'Super Bock Stout', 'Avg_Score': 3.1, 'Review_Counts': 82}]\n"
     ]
    }
   ],
   "source": [
    "#9- If you had to pick 3 beers to recommend using only this database, which would you pick and why?\n",
    "\n",
    "popular_pt_beers = secure_graph.run(\"\"\"\n",
    "     MATCH (c:COUNTRIES)<-[:IN]-(:CITIES)<-[:IN]-(:BREWERIES)-[:BREWED]->(B:BEERS)-[R:REVIEWED]->(RE:REVIEWS)\n",
    "     WHERE RE.score <> 'nan' AND c.name ='PT'\n",
    "     Return B.name AS Name, round(avg(toFloat(RE.score)),1) AS Avg_Score, COUNT(RE) as Review_Counts\n",
    "     ORDER BY Review_Counts DESC\n",
    "     LIMIT 3\n",
    "\"\"\").data()\n",
    "\n",
    "pprint(popular_pt_beers, sort_dicts=False)"
   ]
  },
  {
   "cell_type": "markdown",
   "metadata": {},
   "source": [
    "**9.2 \"The Great Unknowns\"**\n",
    "\n",
    "We want to try to find those beers that are barely known to the users of this database, yet has an excellent score, using the number of reviews as a proxy. The range of 200 to 500 reviews was selected subjectively while considering the number of reviews of popular beers. 1) We believe the average score from 200 reviews is quite reliable, while 2) less than 500 reviews would indicate not many users have tasted the beer as many beers have thousands if not tens of thousands."
   ]
  },
  {
   "cell_type": "code",
   "execution_count": 20,
   "metadata": {
    "scrolled": true
   },
   "outputs": [
    {
     "name": "stdout",
     "output_type": "stream",
     "text": [
      "[{'Beer_Name': 'Kentucky Brunch Brand Stout',\n",
      "  'Avg_Score': 4.84,\n",
      "  'Review_Counts': 434},\n",
      " {'Beer_Name': 'Drie Fonteinen Zenne Y Frontera',\n",
      "  'Avg_Score': 4.74,\n",
      "  'Review_Counts': 250},\n",
      " {'Beer_Name': 'King JJJuliusss', 'Avg_Score': 4.73, 'Review_Counts': 403}]\n"
     ]
    }
   ],
   "source": [
    "great_unknowns = secure_graph.run(\"\"\"\n",
    "     MATCH (b:BEERS)-[:REVIEWED]->(r:REVIEWS)\n",
    "     WHERE r.overall <> 'nan'\n",
    "     WITH b.name as Beer_Name, round(avg(toFloat(r.score)),2) as Avg_Score, count(r) AS Review_Counts\n",
    "     WHERE Avg_Score > 4 AND Review_Counts >= 200 AND Review_Counts <= 500\n",
    "     Return Beer_Name, Avg_Score, Review_Counts\n",
    "     ORDER BY Avg_Score DESC\n",
    "     LIMIT 3\n",
    "\"\"\").data()\n",
    "\n",
    "pprint(great_unknowns, sort_dicts=False)"
   ]
  },
  {
   "cell_type": "markdown",
   "metadata": {},
   "source": [
    "**9.3 \"The Perfectionists\"**\n",
    "\n",
    "These beers scores exceptionally high (4.5 or higher) in every evaluation criterion and has a decent number of reviews which adds to the reliability of these scores."
   ]
  },
  {
   "cell_type": "code",
   "execution_count": 21,
   "metadata": {
    "scrolled": true
   },
   "outputs": [
    {
     "name": "stdout",
     "output_type": "stream",
     "text": [
      "[{'Beer_Name': 'Kentucky Brunch Brand Stout',\n",
      "  'Avg_Final_Score': 4.84,\n",
      "  'Review_Counts': 434},\n",
      " {'Beer_Name': 'Good Morning', 'Avg_Final_Score': 4.79, 'Review_Counts': 918},\n",
      " {'Beer_Name': 'Marshmallow Handjee',\n",
      "  'Avg_Final_Score': 4.75,\n",
      "  'Review_Counts': 822}]\n"
     ]
    }
   ],
   "source": [
    "perfect_beers = secure_graph.run(\"\"\"\n",
    "     MATCH (b:BEERS)-[:REVIEWED]->(r:REVIEWS)\n",
    "     WHERE r.score <> 'nan' AND r.feel <> 'nan' AND r.look <> 'nan'AND \n",
    "         r.smell <> 'nan' AND r.taste <> 'nan' AND r.overall <> 'nan'\n",
    "     WITH b.name as Beer_Name, \n",
    "         round(avg(toFloat(r.feel)),2) as Avg_Feel,\n",
    "         round(avg(toFloat(r.look)),2) as Avg_Look,\n",
    "         round(avg(toFloat(r.smell)),2) as Avg_Smell,\n",
    "         round(avg(toFloat(r.taste)),2) as Avg_Taste,\n",
    "         round(avg(toFloat(r.overall)),2) as Avg_Overall,\n",
    "         round(avg(toFloat(r.score)),2) as Avg_Final_Score,\n",
    "         count(r) AS Review_Counts\n",
    "     WHERE Review_Counts >= 200 AND\n",
    "         Avg_Feel > 4.5 AND\n",
    "         Avg_Look > 4.5 AND\n",
    "         Avg_Smell > 4.5 AND\n",
    "         Avg_Taste > 4.5 AND\n",
    "         Avg_Overall > 4.5\n",
    "     Return Beer_Name, Avg_Final_Score, Review_Counts\n",
    "     ORDER BY Avg_Final_Score DESC\n",
    "     LIMIT 3\n",
    "\"\"\").data()\n",
    "\n",
    "pprint(perfect_beers, sort_dicts=False)"
   ]
  },
  {
   "cell_type": "markdown",
   "metadata": {},
   "source": [
    "**Q9 Conclution:** <br>\n",
    "If we have to choose exactly 3 beers, and only 3 beers, we would recommend  \"The Perfectionists\" as these are highly rated all across the different rating criteria, and have decent number of reviews for the ratings to be reliable. They should be great recommendations for anyone. These are: Kentucky Brunch Brand Stout, Good Morning, and Marshmallow Handjee.\n",
    "\n",
    "If the person is experimental, however, \"The Great Unknowns\" would be excellent recommendations. \n",
    "\n",
    "The \"excellent\" Portuguese beers and \"Popular Portuguese Beers\" would only be recommended to the visitors of Portugal, as the former does not have enough reviews to be reliable and the latter has relatively low score of around 3."
   ]
  }
 ],
 "metadata": {
  "kernelspec": {
   "display_name": "Python 3",
   "language": "python",
   "name": "python3"
  },
  "language_info": {
   "codemirror_mode": {
    "name": "ipython",
    "version": 3
   },
   "file_extension": ".py",
   "mimetype": "text/x-python",
   "name": "python",
   "nbconvert_exporter": "python",
   "pygments_lexer": "ipython3",
   "version": "3.8.8"
  }
 },
 "nbformat": 4,
 "nbformat_minor": 4
}
