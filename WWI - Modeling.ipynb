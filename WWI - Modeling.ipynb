{
 "cells": [
  {
   "cell_type": "markdown",
   "metadata": {},
   "source": [
    "# Big Data Modelling and Management 2022"
   ]
  },
  {
   "cell_type": "markdown",
   "metadata": {},
   "source": [
    "Group number: 22\n",
    "\n",
    "Students (name : student number):\n",
    "\n",
    "1. Lucas Corrêa 20211006\n",
    "\n",
    "2. Vera Canhoto: 20210659 \n",
    "\n",
    "3. Doyun: 20200565\n",
    "\n",
    "4. Bruna Duarte: 20210669"
   ]
  },
  {
   "cell_type": "markdown",
   "metadata": {},
   "source": [
    "## 🚚 BDMM Second Homework Assignment 🚚 \n",
    "\n",
    "_The Wide World Importers (WWI) is a wholesales novelty goods importer and distributor operating from the San Francisco bay area. In this assignment we will be working with their database._ \n",
    "You can get more information and details about the WWI database in the following link: https://docs.microsoft.com/en-us/sql/samples/wide-world-importers-what-is?view=sql-server-ver15\n",
    "\n",
    "The focus of the second assignment is modelling. We will use the World Wide Importers database and convert it to a document-based database. To that end, we will be leveraging concepts like data denormalization, indices, and mongodb design patterns. \n",
    "\n",
    "More information on the extended datamodel to be found here: </br>  \n",
    "https://docs.microsoft.com/en-us/sql/samples/wide-world-importers-oltp-database-catalog?view=sql-server-ver15"
   ]
  },
  {
   "cell_type": "markdown",
   "metadata": {},
   "source": [
    "## Problem Description\n",
    "\n",
    "Your team has just arrived at WWI (a leading company in logistics). Welcome!   <br>\n",
    "Even though business is thriving, the IT department is going through a bad time.   <br>\n",
    "Digitalization was never a priority for the company and now the company operational and analytical requirements are starting to grow beyond the capabilities of their existing data architecture.   <br>\n",
    "\n",
    "WWI data are spread accross different systems, but we've already managed to pull them all into a mongo dump file. This data file is an exact dump of the SQL data so includes all the same structure, the SQL tables become collections and the rows become documents. This means all the original SQL keys are included in the data.<br>\n",
    "Currently, the costs to develop the necessary queries to collect data to answer questions asked by the different departments are too high. <br>\n",
    "\n",
    "Management concluded it is the right time to revise and revamp the data architecture, in order to speed up operations. \n",
    "\n",
    "In that context, your team was tasked with merging all the company data into a single and coherent Mongo database. <br>\n",
    "It is expected that, with your solution, WWI will have a better understanding of their business and that the different departments will be able to obtain efficiently the answers they need.\n",
    "\n",
    "The WWI team shared with you an ERD of their current datamodel:<br>\n",
    "![datamodel](./WWI.png)"
   ]
  },
  {
   "cell_type": "markdown",
   "metadata": {},
   "source": [
    "**Note** You can open the file WWI.png that is in the same directory as this notebook to see the above image in more detail and zoom in as you need.\n",
    "\n",
    "Addtionally, the WWI team asked you the deliver the following outputs in **4 weeks**:\n",
    "- Understand and model the database in MongoDB.\n",
    "- Setup the database so that it is performs well for the queries they have provided. You should include reasoning in comments for the decisions you make on modelling the database.\n",
    "- Answer the questions (queries) on the data provided.  \n",
    "- Submit the results by following the instructions.  \n",
    "\n",
    "With these deliveries, you will have created a prototype and allows the management to decide whether MongoDB is a good solution that meets their requirements."
   ]
  },
  {
   "cell_type": "markdown",
   "metadata": {},
   "source": [
    "### Design Requirements\n",
    "\n",
    "Note that WWI has the following query requirements for the database.\n",
    "\n",
    "1. The web team needs to know:  \n",
    "    1. Which state province do we have the most suppliers in?  \n",
    "    2. How many people have three or more `OtherLanguage`? \n",
    "    3. Top 10 most common `OtherLanguage` for people records. \n",
    "    4. How many customer records are valid after `November 2015`? \n",
    "    5. What percentage of people records don't have the UserPreferences field? \n",
    "\n",
    "2. The warehouse group needs to know:  \n",
    "    1. What is the average difference in days between OrderDate and ExpectedDeliveryDate for orders sold by (`SalespersonPersonID`) person with the name `Jack Potter`?\n",
    "    2. Which items get ordered the most in bulk (largest average quantity ordered)?  \n",
    "    3. Which two items get ordered together the most?\n",
    "    4. For each customer category which 3 items have the ordered the most?\n",
    "    5. What is the current stock of each stockgroup?\n",
    "\n",
    "3. The CFO needs to know:  \n",
    "    1. What is the monthly total order count for each month?  \n",
    "    2. How many orders are there from the customer `Tailspin Toys (Head Office)`?\n",
    "    3. What are the average monthly sales prices of all goods sold? \n",
    "    4. In each state province what is the average customer credit limit?   \n",
    "    5. What are the yearly expenditures with each supplier (per supplier name)?  \n",
    "\n",
    "4. Partnerships needs to know:  \n",
    "    1. What is the most common payment type?  \n",
    "    2. What percentage of people have their `Title` as `Team Member`?\n",
    "    3. Which supplier of the category `Novelty Goods Supplier` has the most transactions?  \n",
    "    4. What is the highest `CommissionRate` that a person has?\n",
    "\n",
    "5. The marketing team needs to know:  \n",
    "    1. What is the name of the sales person with the largest sum of invoice values in 2013 (person whose customers paid the most money)?\n",
    "    2. Who are the most common `PickedByPersonID` person names for orders done by customer `Adriana Pena`?\n",
    "    3. How many people have in their name the string `Sara`?\n",
    "    5. What are the top 10 most Common Names (Primary or Surnames) of people?\n",
    "\n",
    "Transform the mongo dump file provided with this notebook and model a database following mongodb's best practices. You should adjust the data model to best fit the use cases provided above. Think about collections, embedding, linking, indexing, and the patterns learned in class. Provide justifications for each decision you make. What, if any, are the trade-off's or disadvantages of your approach.\n",
    "\n",
    "Use MongoDB queries to answer the questions on your transformed database.\n",
    "\n",
    "### Deliverables\n",
    "\n",
    "1. Notebook with all DB creation operations and CRUD operations to create the data model. **Important** you should include in comments justification for your decisions on modelling the data.;\n",
    "2. Second notebook with all required queries and answers for the questions, **Important** please indicate with comments the steps in the data model you took to optimise each query;\n"
   ]
  },
  {
   "cell_type": "markdown",
   "metadata": {},
   "source": [
    "# Additional Information\n",
    "\n",
    "## Groups  \n",
    "\n",
    "Students should form groups of at least 4 and at most 5. <br>\n",
    "\n",
    "## Submission  Deadline\n",
    "\n",
    "The submission includes two notebooks with outputs (cells must be run). \n",
    "Please make sure to indicate:\n",
    "1. group number,\n",
    "2. group members with student names and numbers,\n",
    "3. the name of the database that you created. <br>\n",
    "\n",
    "Upload the notebook on moodle before **23:59 on June 22nd**\n",
    "\n",
    "## Evaluation   \n",
    "\n",
    "The second homework assignment counts 40% towards your final mark of the curricular unit. <br>\n",
    "The assignment will be scored from 0 to 20. <br>\n",
    "\n",
    "Each group submission will be evaluated on three components:\n",
    "1. correctness of results;\n",
    "2. simplicity and performance characteristics of the solution;\n",
    "3. justification of decisions.\n",
    "\n",
    "50% -  Database design  \n",
    "50% -  Query results including performance\n",
    "\n",
    "Please note that all code delivered in this assignment will go through plagiarism automated checks. <br>\n",
    "Groups with high similarity levels in their code will undergo investigation.\n"
   ]
  },
  {
   "cell_type": "markdown",
   "metadata": {},
   "source": [
    "* [1. Setup](Setup)\n",
    "* [2. Data Modeling](#DataModeling)\n",
    "    * [2.1 Embedding](#Embedding)\n",
    "    * [2.2 Indexing](#Indexing)"
   ]
  },
  {
   "cell_type": "markdown",
   "metadata": {},
   "source": [
    "<hr>\n",
    "<a id=\"Setup\">\n",
    "    \n",
    "# 1. Setup\n",
    "    \n",
    "</a>"
   ]
  },
  {
   "cell_type": "code",
   "execution_count": 1,
   "metadata": {},
   "outputs": [],
   "source": [
    "import pymongo\n",
    "from pymongo import MongoClient\n",
    "from pprint import pprint"
   ]
  },
  {
   "cell_type": "code",
   "execution_count": 2,
   "metadata": {},
   "outputs": [
    {
     "name": "stdout",
     "output_type": "stream",
     "text": [
      "Database info: Database(MongoClient(host=['localhost:27017'], document_class=dict, tz_aware=False, connect=True), 'WideWorldImporters')\n",
      "\n"
     ]
    }
   ],
   "source": [
    "protocol = \"mongodb\"\n",
    "user = 'AzureDiamond'\n",
    "password = 'hunter2'\n",
    "host = 'localhost'\n",
    "port = 27017\n",
    "client = MongoClient(f\"{protocol}://{user}:{password}@{host}:{port}/\")\n",
    "db = client.WideWorldImporters\n",
    "print(f\"Database info: {db}\\n\")"
   ]
  },
  {
   "cell_type": "code",
   "execution_count": 3,
   "metadata": {},
   "outputs": [
    {
     "name": "stdout",
     "output_type": "stream",
     "text": [
      "The database contains 25 collections\n",
      "['orderlines', 'purchaseorders', 'stockitemsstockgroups', 'stateprovinces', 'stockitemstransactions', 'countries', 'transactiontypes', 'colors', 'invoices', 'customercategories', 'stockitems', 'orders', 'cities', 'people', 'suppliercategories', 'purchaseorderlines', 'stockgroups', 'invoicelines', 'deliverymethods', 'suppliertransactions', 'customertransactions', 'paymentmethods', 'suppliers', 'customers', 'packagetypes']\n"
     ]
    }
   ],
   "source": [
    "collection_list = db.list_collection_names()\n",
    "print(f\"The database contains {len(collection_list)} collections\")\n",
    "print(collection_list)"
   ]
  },
  {
   "cell_type": "markdown",
   "metadata": {},
   "source": [
    "<hr>\n",
    "<a id=\"DataModeling\">\n",
    "    \n",
    "# 2. Data Modeling\n",
    "\n",
    "    \n",
    "</a>"
   ]
  },
  {
   "cell_type": "markdown",
   "metadata": {},
   "source": [
    "\n",
    "<a id=\"Embedding\">\n",
    "\n",
    "## 2.1. Embedding\n",
    "    \n",
    "</a>"
   ]
  },
  {
   "cell_type": "code",
   "execution_count": 4,
   "metadata": {},
   "outputs": [
    {
     "data": {
      "text/plain": [
       "{'_id': ObjectId('6287c598636e5a12693dc817'),\n",
       " 'CustomerID': 1,\n",
       " 'CreditLimit': None,\n",
       " 'StateProvinceID': 28}"
      ]
     },
     "execution_count": 4,
     "metadata": {},
     "output_type": "execute_result"
    }
   ],
   "source": [
    "# 1.Stateprovince > City Customer\n",
    "query_1 = {\n",
    "        \"$lookup\":{\n",
    "           \"from\": \"cities\",\n",
    "           \"localField\": \"PostalCityID\",\n",
    "           \"foreignField\": \"CityID\",\n",
    "           \"as\": \"Cities\"\n",
    "        }\n",
    "    }\n",
    "query_2 = {\n",
    "    \"$unwind\": \"$Cities\"\n",
    "}\n",
    "query_3 = {\n",
    "    \"$project\": {\n",
    "        \"CustomerID\": 1,\n",
    "        \"StateProvinceID\": \"$Cities.StateProvinceID\",\n",
    "        \"CreditLimit\":1\n",
    "    }\n",
    "}\n",
    "query_4 = { \n",
    "        \"$merge\" : {\n",
    "            \"into\" : \"Customers_StateProvinceID_embed\",\n",
    "            \"whenMatched\": \"replace\"\n",
    "        }\n",
    "    }\n",
    "pipeline = [query_1, query_2, query_3,query_4]\n",
    "r = db.customers.aggregate(pipeline)\n",
    "\n",
    "db.Customers_StateProvinceID_embed.find_one()"
   ]
  },
  {
   "cell_type": "code",
   "execution_count": 5,
   "metadata": {},
   "outputs": [
    {
     "data": {
      "text/plain": [
       "{'_id': ObjectId('6287c561636e5a12693dc7c4'),\n",
       " 'SupplierID': 1,\n",
       " 'StateProvinceID': 15,\n",
       " 'StateProvinceName': 'Indiana'}"
      ]
     },
     "execution_count": 5,
     "metadata": {},
     "output_type": "execute_result"
    }
   ],
   "source": [
    "# 2. Stateprovince > City Supplier\n",
    "query_1 = {\n",
    "        \"$lookup\":{\n",
    "           \"from\": \"cities\",\n",
    "           \"localField\": \"PostalCityID\",\n",
    "           \"foreignField\": \"CityID\",\n",
    "           \"as\": \"Cities\"\n",
    "        }\n",
    "    }\n",
    "query_2 = {\n",
    "    \"$unwind\": \"$Cities\"\n",
    "}\n",
    "\n",
    "query_3 = {\n",
    "        \"$lookup\":{\n",
    "           \"from\": \"stateprovinces\",\n",
    "           \"localField\": \"Cities.StateProvinceID\",\n",
    "           \"foreignField\": \"StateProvinceID\",\n",
    "           \"as\": \"StateProvince\"\n",
    "        }\n",
    "    }\n",
    "\n",
    "query_4 = {\n",
    "    \"$unwind\": \"$StateProvince\"\n",
    "}\n",
    "\n",
    "query_5 = {\n",
    "    \"$project\": {\n",
    "        \"SupplierID\": 1,\n",
    "        \"StateProvinceID\": \"$Cities.StateProvinceID\",\n",
    "        \"CreditLimit\":1,\n",
    "        \"StateProvinceName\":\"$StateProvince.StateProvinceName\"\n",
    "    }\n",
    "}\n",
    "query_6 = { \n",
    "        \"$merge\" : {\n",
    "            \"into\" : \"Suppliers_StateProvinceID_embed\",\n",
    "            \"whenMatched\": \"replace\"\n",
    "        }\n",
    "    }\n",
    "pipeline = [query_1, query_2, query_3,query_4,query_5,query_6]\n",
    "r = db.suppliers.aggregate(pipeline)\n",
    "db.Suppliers_StateProvinceID_embed.find_one()"
   ]
  },
  {
   "cell_type": "code",
   "execution_count": 9,
   "metadata": {},
   "outputs": [
    {
     "data": {
      "text/plain": [
       "{'_id': ObjectId('6287c5ec636e5a126944ceae'),\n",
       " 'OrderID': 1,\n",
       " 'CustomerID': 832,\n",
       " 'SalespersonPersonID': 2,\n",
       " 'PickedByPersonID': None,\n",
       " 'ContactPersonID': 3032,\n",
       " 'BackorderOrderID': 45,\n",
       " 'OrderDate': datetime.datetime(2013, 1, 1, 0, 0),\n",
       " 'ExpectedDeliveryDate': datetime.datetime(2013, 1, 2, 0, 0),\n",
       " 'CustomerPurchaseOrderNumber': '12126',\n",
       " 'IsUndersupplyBackordered': True,\n",
       " 'Comments': None,\n",
       " 'DeliveryInstructions': None,\n",
       " 'InternalComments': None,\n",
       " 'PickingCompletedWhen': datetime.datetime(2013, 1, 1, 12, 0),\n",
       " 'LastEditedBy': 7,\n",
       " 'LastEditedWhen': datetime.datetime(2013, 1, 1, 12, 0),\n",
       " 'OrderItemsIDs': [67]}"
      ]
     },
     "execution_count": 9,
     "metadata": {},
     "output_type": "execute_result"
    }
   ],
   "source": [
    "#creates a list of reference sotckIds in the order documents\n",
    "query_1 = {\n",
    "        \"$lookup\":{\n",
    "           \"from\": \"orderlines\",\n",
    "           \"pipeline\": [{'$group':{'_id':'$OrderID','items':{'$push':'$StockItemID'}}},\n",
    "                        {'$project': { '_id':0,'items':1}} ],\n",
    "           \"localField\": \"OrderID\",\n",
    "           \"foreignField\": \"OrderID\",\n",
    "           \"as\": \"OrderItemsIDs\"\n",
    "        }\n",
    "    }\n",
    "\n",
    "query_2 = {\n",
    "    \"$unwind\": \"$OrderItemsIDs\"\n",
    "}\n",
    "\n",
    "query_3 = { '$set': \n",
    "           {'OrderItemsIDs': '$OrderItemsIDs.items'} \n",
    "          }\n",
    "\n",
    "query_4= { \n",
    "        \"$merge\" : {\n",
    "            \"into\" : \"orders\",\n",
    "            \"whenMatched\": \"replace\"\n",
    "        } \n",
    "    }\n",
    "\n",
    "pipeline = [query_1,query_2,query_3,query_4]\n",
    "    \n",
    "db.orders.aggregate(pipeline)\n",
    "\n",
    "db.orders.find_one()"
   ]
  },
  {
   "cell_type": "code",
   "execution_count": 6,
   "metadata": {},
   "outputs": [
    {
     "data": {
      "text/plain": [
       "{'_id': ObjectId('6287c7c4636e5a12694aaa56'),\n",
       " 'SupplierTransactionID': 134,\n",
       " 'SupplierID': 2,\n",
       " 'TransactionTypeID': 5,\n",
       " 'PurchaseOrderID': 1,\n",
       " 'PaymentMethodID': 4,\n",
       " 'SupplierInvoiceNumber': '7290',\n",
       " 'TransactionDate': datetime.datetime(2013, 1, 2, 0, 0),\n",
       " 'AmountExcludingTax': Decimal128('313.50'),\n",
       " 'TaxAmount': Decimal128('47.03'),\n",
       " 'TransactionAmount': Decimal128('360.53'),\n",
       " 'OutstandingBalance': Decimal128('0.00'),\n",
       " 'FinalizationDate': datetime.datetime(2013, 1, 7, 0, 0),\n",
       " 'IsFinalized': True,\n",
       " 'LastEditedBy': 4,\n",
       " 'LastEditedWhen': datetime.datetime(2013, 1, 7, 9, 0)}"
      ]
     },
     "execution_count": 6,
     "metadata": {},
     "output_type": "execute_result"
    }
   ],
   "source": [
    "query_1 = {\"$lookup\": {\n",
    "            'from':'suppliers', \n",
    "            \"localField\": 'SupplierID', \n",
    "            \"foreignField\": \"SupplierID\", \n",
    "            \"as\": \"supplierdetails\"}\n",
    "          }\n",
    "\n",
    "query_2 = {\"$unwind\" : \"$supplierdetails\"}\n",
    "\n",
    "query_3 = {\"$lookup\": {\n",
    "            \"from\":\"cities\",\n",
    "        \t\"localField\":\"supplierdetails.DeliveryCityID\",\n",
    "            \"foreignField\":\"CityID\",\n",
    "            \"as\":\"cities\"}\n",
    "          }\n",
    "\n",
    "query_4 = {\"$unwind\" : \"$cities\"}\n",
    "\n",
    "query_5 = {\"$lookup\": {\n",
    "            \"from\":\"stateprovinces\",\n",
    "            \"localField\":\"cities.StateProvinceID\",\n",
    "            \"foreignField\":\"StateProvinceID\",\n",
    "            \"as\":\"StateProvinces\"}}\n",
    "\n",
    "query_6 = {\"$unwind\" : \"$StateProvinces\"}\n",
    "\n",
    "query_7 = {\"$lookup\": {\n",
    "            \"from\":\"suppliercategories\",\n",
    "            \"localField\":\"supplierdetails.SupplierCategoryID\",\n",
    "            \"foreignField\":\"SupplierCategoryID\",\n",
    "            \"as\":\"Suppliercategory\"}}\n",
    "\n",
    "query_8 = {\"$unwind\":\"$Suppliercategory\"}\n",
    "\n",
    "query_9 = {\"$project\": {\n",
    "            \"SupplierTransactionID\":1,\n",
    "            \"SupplierID\":1,\n",
    "            \"PaymentMethodID\":1,\n",
    "            \"SupplierInvoiceNumber\":1,\n",
    "            \"TransactionDate\":1,\n",
    "            \"TransactionAmount\":1,\n",
    "            \"supplierdetails.SupplierName\":1,\n",
    "            \"supplierdetails.SupplierCategoryID\":1,\n",
    "            \"cities.CityName\":1,\n",
    "            \"cities.StateProvinceID\":1,\n",
    "            \"StateProvinces.StateProvinceName\":1,\n",
    "            \"Suppliercategory.SupplierCategoryName\":1}}\n",
    "\n",
    "merge = {\"$merge\": { \n",
    "            \"into\":'SuppliersTransactionsDetails', \n",
    "            \"whenMatched\": \"replace\", \n",
    "            \"whenNotMatched\": \"insert\"}\n",
    "        }\n",
    "\n",
    "pipeline = [query_1, query_2, query_3, query_4, query_5, query_6, query_7, query_8, query_9, merge]\n",
    "\n",
    "db.suppliertransactions.aggregate(pipeline)\n",
    "db.suppliertransactions.find_one()"
   ]
  },
  {
   "cell_type": "code",
   "execution_count": 35,
   "metadata": {},
   "outputs": [],
   "source": [
    "query_1 = {\n",
    "    '$match': {\n",
    "        'CustomerName': 'Adriana Pena'\n",
    "    }}\n",
    "\n",
    "query_2 = {\n",
    "        \"$lookup\":{\n",
    "           \"from\": \"orders\",\n",
    "           \"localField\": \"CustomerID\",\n",
    "           \"foreignField\": \"CustomerID\",\n",
    "           \"as\": \"Orders\"\n",
    "        }\n",
    "    }\n",
    "\n",
    "query_3 = {\n",
    "    \"$unwind\": \"$Orders\"\n",
    "}\n",
    "\n",
    "\n",
    "query_4 = {\n",
    "    \"$project\": {\n",
    "        '_id':0,\n",
    "        'CustomerName': 1,\n",
    "        'PickedByPersonID':'$Orders.PickedByPersonID'\n",
    "    } }\n",
    "\n",
    "query_5 = { \n",
    "        \"$merge\" : {\n",
    "            \"into\" : \"Customers_Orders_PickedByPersonID_embed\",\n",
    "            \"whenMatched\": \"replace\"\n",
    "        } , \n",
    "    }\n",
    "\n",
    "\n",
    "pipeline = [query_1,query_2,query_3,query_4,query_5]\n",
    "\n",
    "r = db.customers.aggregate(pipeline)"
   ]
  },
  {
   "cell_type": "markdown",
   "metadata": {},
   "source": [
    "\n",
    "<a id=\"Indexing\">\n",
    "\n",
    "## 2.2. Embedding\n",
    "    \n",
    "</a>"
   ]
  },
  {
   "cell_type": "code",
   "execution_count": 7,
   "metadata": {},
   "outputs": [
    {
     "data": {
      "text/plain": [
       "'StockItemID_-1'"
      ]
     },
     "execution_count": 7,
     "metadata": {},
     "output_type": "execute_result"
    }
   ],
   "source": [
    "#index StockItemID\n",
    "db.orderlines.create_index( [(\"OrderID\", pymongo.DESCENDING),\n",
    "                             (\"StockItemID\", pymongo.DESCENDING)\n",
    "                            ] )\n",
    "\n",
    "db.orders.create_index( [(\"OrderID\", pymongo.DESCENDING)] )\n",
    "\n",
    "db.stockitems.create_index( [(\"StockItemID\", pymongo.DESCENDING)] )"
   ]
  },
  {
   "cell_type": "code",
   "execution_count": 8,
   "metadata": {},
   "outputs": [
    {
     "data": {
      "text/plain": [
       "'PersonID_-1'"
      ]
     },
     "execution_count": 8,
     "metadata": {},
     "output_type": "execute_result"
    }
   ],
   "source": [
    "db.people.create_index( [(\"PersonID\", pymongo.DESCENDING)] )"
   ]
  },
  {
   "cell_type": "code",
   "execution_count": null,
   "metadata": {},
   "outputs": [],
   "source": []
  }
 ],
 "metadata": {
  "hide_input": false,
  "kernelspec": {
   "display_name": "Python 3 (ipykernel)",
   "language": "python",
   "name": "python3"
  },
  "language_info": {
   "codemirror_mode": {
    "name": "ipython",
    "version": 3
   },
   "file_extension": ".py",
   "mimetype": "text/x-python",
   "name": "python",
   "nbconvert_exporter": "python",
   "pygments_lexer": "ipython3",
   "version": "3.9.7"
  },
  "toc": {
   "base_numbering": 1,
   "nav_menu": {},
   "number_sections": true,
   "sideBar": true,
   "skip_h1_title": false,
   "title_cell": "Table of Contents",
   "title_sidebar": "Contents",
   "toc_cell": false,
   "toc_position": {},
   "toc_section_display": true,
   "toc_window_display": false
  },
  "varInspector": {
   "cols": {
    "lenName": 16,
    "lenType": 16,
    "lenVar": 40
   },
   "kernels_config": {
    "python": {
     "delete_cmd_postfix": "",
     "delete_cmd_prefix": "del ",
     "library": "var_list.py",
     "varRefreshCmd": "print(var_dic_list())"
    },
    "r": {
     "delete_cmd_postfix": ") ",
     "delete_cmd_prefix": "rm(",
     "library": "var_list.r",
     "varRefreshCmd": "cat(var_dic_list()) "
    }
   },
   "types_to_exclude": [
    "module",
    "function",
    "builtin_function_or_method",
    "instance",
    "_Feature"
   ],
   "window_display": false
  }
 },
 "nbformat": 4,
 "nbformat_minor": 4
}
